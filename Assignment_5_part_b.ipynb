{
  "nbformat": 4,
  "nbformat_minor": 0,
  "metadata": {
    "colab": {
      "provenance": []
    },
    "kernelspec": {
      "name": "python3",
      "display_name": "Python 3"
    },
    "language_info": {
      "name": "python"
    }
  },
  "cells": [
    {
      "cell_type": "markdown",
      "source": [
        "# Assignment-5-part-b- TimeGPT Fine-tuning\n",
        "\n",
        "## Assignment Description\n",
        "Fine-tune TimeGPT using your own data and explain the finetuning process step-by-step within the Colab.\n",
        "Hint: Refer to Nixtla's fine-tuning tutorial.\n",
        "\n",
        "\n"
      ],
      "metadata": {
        "id": "ztn4Dl-7QK_Z"
      }
    },
    {
      "cell_type": "code",
      "source": [
        "# Ensure that the necessary libraries for TimeGPT fine-tuning are installed.\n",
        "!pip install -Uqq nixtla"
      ],
      "metadata": {
        "id": "_cl75qtKb4_D",
        "colab": {
          "base_uri": "https://localhost:8080/"
        },
        "outputId": "2ebad01e-1d4f-4a0d-c8fd-aad052e3d49e"
      },
      "execution_count": 1,
      "outputs": [
        {
          "output_type": "stream",
          "name": "stdout",
          "text": [
            "\u001b[?25l   \u001b[90m━━━━━━━━━━━━━━━━━━━━━━━━━━━━━━━━━━━━━━━━\u001b[0m \u001b[32m0.0/41.4 kB\u001b[0m \u001b[31m?\u001b[0m eta \u001b[36m-:--:--\u001b[0m\r\u001b[2K   \u001b[90m━━━━━━━━━━━━━━━━━━━━━━━━━━━━━━━━━━━━━━━━\u001b[0m \u001b[32m41.4/41.4 kB\u001b[0m \u001b[31m2.2 MB/s\u001b[0m eta \u001b[36m0:00:00\u001b[0m\n",
            "\u001b[?25h"
          ]
        }
      ]
    },
    {
      "cell_type": "code",
      "source": [
        "# Import libraries for handling data and working with the TimeGPT model.\n",
        "import pandas as pd\n",
        "from nixtla import NixtlaClient\n",
        "from utilsforecast.losses import mae, mse\n",
        "from utilsforecast.evaluation import evaluate"
      ],
      "metadata": {
        "id": "9EuuEWKUb6Ae",
        "colab": {
          "base_uri": "https://localhost:8080/"
        },
        "outputId": "b2b70d4a-289f-45fa-db3a-9a4f76d5cebb"
      },
      "execution_count": 2,
      "outputs": [
        {
          "output_type": "stream",
          "name": "stderr",
          "text": [
            "/usr/local/lib/python3.10/dist-packages/dask/dataframe/__init__.py:42: FutureWarning: \n",
            "Dask dataframe query planning is disabled because dask-expr is not installed.\n",
            "\n",
            "You can install it with `pip install dask[dataframe]` or `conda install dask`.\n",
            "This will raise in a future version.\n",
            "\n",
            "  warnings.warn(msg, FutureWarning)\n"
          ]
        }
      ]
    },
    {
      "cell_type": "code",
      "source": [
        "from google.colab import userdata\n",
        "NIXTLA_API_KEY = userdata.get('NIXTLA_API_KEY')"
      ],
      "metadata": {
        "id": "s1iewXD0cLiY"
      },
      "execution_count": 3,
      "outputs": []
    },
    {
      "cell_type": "code",
      "source": [
        "# Initialize the Nixtla client with the API key (replace with your actual API key)\n",
        "nixtla_client = NixtlaClient(api_key=NIXTLA_API_KEY)"
      ],
      "metadata": {
        "id": "OHtkt92ib-D9"
      },
      "execution_count": 4,
      "outputs": []
    },
    {
      "cell_type": "code",
      "source": [
        "# Load a time-series dataset (use your own or an example dataset)\n",
        "df = pd.read_csv('https://raw.githubusercontent.com/Nixtla/transfer-learning-time-series/main/datasets/air_passengers.csv')\n",
        "print(\"Dataset Preview:\")\n",
        "print(df.head())"
      ],
      "metadata": {
        "colab": {
          "base_uri": "https://localhost:8080/"
        },
        "id": "baitWLNib-3e",
        "outputId": "4d42541e-3aea-406a-c93d-6e5872afdeee"
      },
      "execution_count": 11,
      "outputs": [
        {
          "output_type": "stream",
          "name": "stdout",
          "text": [
            "Dataset Preview:\n",
            "    timestamp  value\n",
            "0  1949-01-01    112\n",
            "1  1949-02-01    118\n",
            "2  1949-03-01    132\n",
            "3  1949-04-01    129\n",
            "4  1949-05-01    121\n"
          ]
        }
      ]
    },
    {
      "cell_type": "code",
      "source": [
        "import pandas as pd\n",
        "import nixtla\n",
        "import matplotlib.pyplot as plt\n",
        "\n",
        "# Load your dataset\n",
        "df = pd.read_csv('https://raw.githubusercontent.com/jbrownlee/Datasets/master/monthly-sunspots.csv')\n",
        "\n",
        "# Renaming columns for consistency\n",
        "df.rename(columns={'Month': 'timestamp', 'Sunspots': 'value'}, inplace=True)\n",
        "\n",
        "# Checking the first few rows of the dataset\n",
        "print(\"Dataset Preview:\")\n",
        "print(df.head())\n",
        "\n",
        "# Create a sample timegpt_fcst_finetune_df (for illustration; replace this with actual fine-tuned forecast data)\n",
        "# This will simulate forecasted data\n",
        "forecast_data = df.copy()\n",
        "forecast_data['value'] = forecast_data['value'] * 1.05  # Simulating a 5% increase for forecasting\n",
        "\n",
        "# Using Nixtla's plot function for visualization\n",
        "try:\n",
        "    nixtla.plot(df, forecast_data, time_col='timestamp', target_col='value')\n",
        "    plt.title(\"Time-Series Plot: Original vs Forecasted Data\")\n",
        "    plt.xlabel('Timestamp')\n",
        "    plt.ylabel('Sunspot Count')\n",
        "    plt.xticks(rotation=45)\n",
        "    plt.tight_layout()\n",
        "    plt.show()\n",
        "except Exception as e:\n",
        "    print(f\"Error while plotting: {e}\")\n"
      ],
      "metadata": {
        "colab": {
          "base_uri": "https://localhost:8080/"
        },
        "id": "Ng3xSVtZILqD",
        "outputId": "bcfa70e2-a8fd-44e8-c37d-612d4333d1a4"
      },
      "execution_count": 18,
      "outputs": [
        {
          "output_type": "stream",
          "name": "stdout",
          "text": [
            "Dataset Preview:\n",
            "  timestamp  value\n",
            "0   1749-01   58.0\n",
            "1   1749-02   62.6\n",
            "2   1749-03   70.0\n",
            "3   1749-04   55.7\n",
            "4   1749-05   85.0\n",
            "Error while plotting: module 'nixtla' has no attribute 'plot'\n"
          ]
        }
      ]
    },
    {
      "cell_type": "code",
      "source": [
        "# Load a new time-series dataset\n",
        "df = pd.read_csv('https://raw.githubusercontent.com/jbrownlee/Datasets/master/monthly-sunspots.csv')\n",
        "\n",
        "print(\"Dataset Preview:\")\n",
        "print(df.head())\n"
      ],
      "metadata": {
        "colab": {
          "base_uri": "https://localhost:8080/"
        },
        "id": "pNhdIdKVAUt6",
        "outputId": "062295e1-6f49-434d-ae20-238b93010a35"
      },
      "execution_count": 7,
      "outputs": [
        {
          "output_type": "stream",
          "name": "stdout",
          "text": [
            "Dataset Preview:\n",
            "     Month  Sunspots\n",
            "0  1749-01      58.0\n",
            "1  1749-02      62.6\n",
            "2  1749-03      70.0\n",
            "3  1749-04      55.7\n",
            "4  1749-05      85.0\n"
          ]
        }
      ]
    },
    {
      "cell_type": "code",
      "source": [
        "# Fine-tune the model with a specified number of iterations and optional depth\n",
        "fine_tune_steps = 10  # Number of training iterations\n",
        "timegpt_fcst_finetune_df = nixtla_client.forecast(\n",
        "    df=df,\n",
        "    h=12,  # Forecast horizon\n",
        "    finetune_steps=fine_tune_steps,\n",
        "    time_col='timestamp',\n",
        "    target_col='value'\n",
        ")"
      ],
      "metadata": {
        "id": "UycLkJGkb-w8"
      },
      "execution_count": 12,
      "outputs": []
    },
    {
      "cell_type": "code",
      "source": [
        "# Fine-tune the model at different levels of parameter adjustment to evaluate performance\n",
        "train = df[:-24]\n",
        "test = df[-24:].copy()\n",
        "depths = [1, 2, 3, 4, 5]\n",
        "\n",
        "for depth in depths:\n",
        "    preds_df = nixtla_client.forecast(\n",
        "        df=train,\n",
        "        h=24,\n",
        "        finetune_steps=5,\n",
        "        time_col='timestamp',\n",
        "        target_col='value'\n",
        "    )\n",
        "    preds = preds_df['TimeGPT'].values\n",
        "    test[f'TimeGPT_depth{depth}'] = preds"
      ],
      "metadata": {
        "colab": {
          "base_uri": "https://localhost:8080/"
        },
        "id": "CtktCTtscDlX",
        "outputId": "60f57754-4143-4599-f87a-f83aba2c54be"
      },
      "execution_count": 15,
      "outputs": [
        {
          "output_type": "stream",
          "name": "stderr",
          "text": [
            "WARNING:nixtla.nixtla_client:The specified horizon \"h\" exceeds the model horizon. This may lead to less accurate forecasts. Please consider using a smaller horizon.\n",
            "WARNING:nixtla.nixtla_client:The specified horizon \"h\" exceeds the model horizon. This may lead to less accurate forecasts. Please consider using a smaller horizon.\n",
            "WARNING:nixtla.nixtla_client:The specified horizon \"h\" exceeds the model horizon. This may lead to less accurate forecasts. Please consider using a smaller horizon.\n",
            "WARNING:nixtla.nixtla_client:The specified horizon \"h\" exceeds the model horizon. This may lead to less accurate forecasts. Please consider using a smaller horizon.\n",
            "WARNING:nixtla.nixtla_client:The specified horizon \"h\" exceeds the model horizon. This may lead to less accurate forecasts. Please consider using a smaller horizon.\n"
          ]
        }
      ]
    },
    {
      "cell_type": "code",
      "source": [
        "# Add a unique identifier column for evaluation\n",
        "test['unique_id'] = 0"
      ],
      "metadata": {
        "id": "LfCTmxJRcEeF"
      },
      "execution_count": 16,
      "outputs": []
    },
    {
      "cell_type": "code",
      "source": [
        "# Evaluate and display performance metrics\n",
        "evaluation = evaluate(test, metrics=[mae, mse], time_col=\"timestamp\", target_col=\"value\")\n",
        "print(\"Evaluation Results:\")\n",
        "print(evaluation)"
      ],
      "metadata": {
        "colab": {
          "base_uri": "https://localhost:8080/"
        },
        "id": "Z-qv8U_-cFel",
        "outputId": "4b417c81-5605-4fb3-d9ff-4fe84bdc1951"
      },
      "execution_count": 17,
      "outputs": [
        {
          "output_type": "stream",
          "name": "stdout",
          "text": [
            "Evaluation Results:\n",
            "   unique_id metric  TimeGPT_depth1  TimeGPT_depth2  TimeGPT_depth3  \\\n",
            "0          0    mae       54.426133       54.426133       54.426133   \n",
            "1          0    mse     3887.305891     3887.305891     3887.305891   \n",
            "\n",
            "   TimeGPT_depth4  TimeGPT_depth5  \n",
            "0       54.426133       54.426133  \n",
            "1     3887.305891     3887.305891  \n"
          ]
        }
      ]
    }
  ]
}